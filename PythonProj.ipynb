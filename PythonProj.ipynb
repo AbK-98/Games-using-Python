{
 "cells": [
  {
   "cell_type": "code",
   "execution_count": 4,
   "metadata": {},
   "outputs": [],
   "source": [
    "def display_board(board):\n",
    "    print(' {} | {} | {} '.format(board[0], board[1], board[2]))\n",
    "    print('-----------')\n",
    "    print(' {} | {} | {} '.format(board[3], board[4], board[5]))\n",
    "    print('-----------')\n",
    "    print(' {} | {} | {} '.format(board[6], board[7], board[8]))"
   ]
  },
  {
   "cell_type": "code",
   "execution_count": 7,
   "metadata": {},
   "outputs": [],
   "source": [
    "def user_input():\n",
    "    ini=True\n",
    "    while ini:  \n",
    "        player1 = input(\"Please pick a marker 'X' or 'O'\")\n",
    "        if player1 not in ['X','O']:\n",
    "            print('Enter valid value')\n",
    "        else:\n",
    "            ini=False\n",
    "            if player1=='X': player2='O' \n",
    "            else: player2=='X'\n",
    "    return player1, player2"
   ]
  },
  {
   "cell_type": "code",
   "execution_count": 8,
   "metadata": {},
   "outputs": [
    {
     "name": "stdout",
     "output_type": "stream",
     "text": [
      "O\n",
      "X\n"
     ]
    }
   ],
   "source": [
    "user_input()"
   ]
  },
  {
   "cell_type": "code",
   "execution_count": null,
   "metadata": {},
   "outputs": [],
   "source": []
  }
 ],
 "metadata": {
  "kernelspec": {
   "display_name": "Python 3",
   "language": "python",
   "name": "python3"
  },
  "language_info": {
   "codemirror_mode": {
    "name": "ipython",
    "version": 3
   },
   "file_extension": ".py",
   "mimetype": "text/x-python",
   "name": "python",
   "nbconvert_exporter": "python",
   "pygments_lexer": "ipython3",
   "version": "3.11.7"
  }
 },
 "nbformat": 4,
 "nbformat_minor": 2
}
